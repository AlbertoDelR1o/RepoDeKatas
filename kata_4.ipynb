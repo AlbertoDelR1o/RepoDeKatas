{
 "cells": [
  {
   "cell_type": "code",
   "execution_count": 16,
   "metadata": {},
   "outputs": [
    {
     "name": "stdout",
     "output_type": "stream",
     "text": [
      " The Moon is Earth's only satellite\n",
      " There are several interesting facts about the Moon and how it affects life here on Earth\n",
      " This yearly drift is not significant enough to cause immediate effects on Earth\n",
      " The highest daylight temperature of the Moon is 127 C\n",
      "Interesting facts about the Moon\n",
      " The Moon is Earth's only satellite\n",
      " There are several interesting facts about the Moon and how it affects life here on Earth\n",
      " This yearly drift is not significant enough to cause immediate effects on Earth\n",
      " The highest daylight temperature of the Moon is 127 celsius\n"
     ]
    }
   ],
   "source": [
    "text = \"\"\"Interesting facts about the Moon. The Moon is Earth's only satellite. There are several interesting facts about the Moon and how it affects life here on Earth. \n",
    "On average, the Moon moves 4cm away from the Earth every year. This yearly drift is not significant enough to cause immediate effects on Earth. The highest daylight temperature of the Moon is 127 C.\"\"\"\n",
    "\n",
    "\n",
    "partes = text.split('.')\n",
    "\n",
    "palabras = ['average','temperature','distance']\n",
    "\n",
    "for sentence in partes:\n",
    "    for palabras in palabras:\n",
    "        if palabras in sentence:\n",
    "            print(sentence)\n",
    "            break\n",
    "\n",
    "for sentence in partes:\n",
    "    for palabras in palabras:\n",
    "        if palabras in sentence:\n",
    "            print(sentence.replace('C','celsius')) #remplaza la palabra que esta antes de la ',' por la que esta despues\n",
    "            break\n",
    "    \n"
   ]
  },
  {
   "cell_type": "code",
   "execution_count": 7,
   "metadata": {},
   "outputs": [
    {
     "name": "stdout",
     "output_type": "stream",
     "text": [
      "-------------------------------------------------------------------------------- \n",
      " Nombre del planeta: Earth\n",
      "Grabedad de Moon:1.6199999999999999 m/s \n"
     ]
    }
   ],
   "source": [
    "\n",
    "name = 'Moon'\n",
    "gravity = 0.00162 # in kms\n",
    "planet = 'Earth'\n",
    "\n",
    "# convertir = gravity * 1000 <--- esta operacion puede ir dentro de los corchetes {} del ofrmato f'\n",
    "\n",
    "title = f'La grabedad de {name}' \n",
    "\n",
    "datos = f\"\"\"{'-'*80} \n",
    " Nombre del planeta: {planet}\n",
    "Grabedad de {name}:{gravity * 1000} m/s \"\"\" #{'-'*80} es para imprimir los giones\n",
    "\n",
    "union = f\"\"\"{title.title()}\n",
    "{datos}\"\"\"\n",
    "print(datos)\n"
   ]
  },
  {
   "cell_type": "code",
   "execution_count": 8,
   "metadata": {},
   "outputs": [
    {
     "name": "stdout",
     "output_type": "stream",
     "text": [
      " Datos de gravedad sinvre : Ganímedes\n",
      "-----------------------------------------------------------------------------\n",
      "Nombre del planeta: Marte\n",
      "gravedad en Ganímedes: 1.4300000000000002 m/s\n"
     ]
    }
   ],
   "source": [
    "name = 'Ganímedes'\n",
    "gravity = 0.00143 # in kms\n",
    "planet = 'Marte'\n",
    "\n",
    "new_datos = \"\"\" Datos de gravedad sinvre : {name}\n",
    "-----------------------------------------------------------------------------\n",
    "Nombre del planeta: {planet}\n",
    "gravedad en {name}: {gravity} m/s\"\"\"\n",
    "\n",
    "print(new_datos.format(name=name,planet=planet,gravity=gravity*1000))\n"
   ]
  }
 ],
 "metadata": {
  "interpreter": {
   "hash": "907dd751e801f48d97437a93f5e7f8ecf2a88d6aa62263283d60c0e793658f24"
  },
  "kernelspec": {
   "display_name": "Python 3.9.10 64-bit (windows store)",
   "language": "python",
   "name": "python3"
  },
  "language_info": {
   "codemirror_mode": {
    "name": "ipython",
    "version": 3
   },
   "file_extension": ".py",
   "mimetype": "text/x-python",
   "name": "python",
   "nbconvert_exporter": "python",
   "pygments_lexer": "ipython3",
   "version": "3.9.10"
  },
  "orig_nbformat": 4
 },
 "nbformat": 4,
 "nbformat_minor": 2
}
