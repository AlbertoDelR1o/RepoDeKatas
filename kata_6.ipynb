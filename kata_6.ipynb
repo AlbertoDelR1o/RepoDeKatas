{
 "cells": [
  {
   "cell_type": "code",
   "execution_count": 3,
   "metadata": {},
   "outputs": [
    {
     "name": "stdout",
     "output_type": "stream",
     "text": [
      "los planetas son: 8\n",
      "pluton el ilyimo planeta\n"
     ]
    }
   ],
   "source": [
    "planetas = ['mercuirio','venus','tierra','marte','jupiter','saturno','urano','nepturno']\n",
    "print('los planetas son:', len(planetas))\n",
    "\n",
    "planetas.append('pluton')\n",
    "print(planetas[-1],'el ultimo planeta')"
   ]
  },
  {
   "cell_type": "code",
   "execution_count": 6,
   "metadata": {},
   "outputs": [
    {
     "name": "stdout",
     "output_type": "stream",
     "text": [
      "los palanetas mas cercanos al sol antes de jupiter\n",
      "['mercuirio', 'venus', 'tierra', 'marte']\n",
      "los palanetas mas alejados al sol despues de  jupiter\n",
      "['saturno', 'urano', 'nepturno']\n"
     ]
    }
   ],
   "source": [
    "planetas = ['mercuirio','venus','tierra','marte','jupiter','saturno','urano','nepturno']\n",
    "ingresa = input ('introduce el planeta')\n",
    "encuentra = planetas.index(ingresa) \n",
    "\n",
    "print('los palanetas mas cercanos al sol antes de ' + ingresa)\n",
    "print(planetas[0:encuentra])\n",
    "\n",
    "print('los palanetas mas alejados al sol despues de  ' + ingresa)\n",
    "print(planetas[encuentra + 1:])\n"
   ]
  }
 ],
 "metadata": {
  "interpreter": {
   "hash": "907dd751e801f48d97437a93f5e7f8ecf2a88d6aa62263283d60c0e793658f24"
  },
  "kernelspec": {
   "display_name": "Python 3.9.10 64-bit (windows store)",
   "language": "python",
   "name": "python3"
  },
  "language_info": {
   "codemirror_mode": {
    "name": "ipython",
    "version": 3
   },
   "file_extension": ".py",
   "mimetype": "text/x-python",
   "name": "python",
   "nbconvert_exporter": "python",
   "pygments_lexer": "ipython3",
   "version": "3.9.10"
  },
  "orig_nbformat": 4
 },
 "nbformat": 4,
 "nbformat_minor": 2
}
