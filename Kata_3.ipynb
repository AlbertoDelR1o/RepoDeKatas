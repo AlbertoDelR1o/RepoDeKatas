{
 "cells": [
  {
   "cell_type": "code",
   "execution_count": 4,
   "metadata": {},
   "outputs": [
    {
     "name": "stdout",
     "output_type": "stream",
     "text": [
      "Alerta asteroide acercandoce rapidamente\n"
     ]
    }
   ],
   "source": [
    "velocidad_asteroide=26\n",
    "\n",
    "if velocidad_asteroide > 25:\n",
    "    print ('Alerta asteroide acercandoce rapidamente')\n",
    "else:\n",
    "    print ('no hay peligro')"
   ]
  },
  {
   "cell_type": "code",
   "execution_count": 1,
   "metadata": {},
   "outputs": [
    {
     "name": "stdout",
     "output_type": "stream",
     "text": [
      "cielo despejado\n"
     ]
    }
   ],
   "source": [
    "velocidad_asteroide=15\n",
    "\n",
    "if velocidad_asteroide > 20:\n",
    "    print('En el cielo se ve un rayo de luz')\n",
    "elif velocidad_asteroide == 20:\n",
    "    print('En el cielo se ve un rayo de luz')\n",
    "else:\n",
    "    print('cielo despejado')"
   ]
  },
  {
   "cell_type": "code",
   "execution_count": 2,
   "metadata": {},
   "outputs": [
    {
     "name": "stdout",
     "output_type": "stream",
     "text": [
      "En el cielo se ve un rayo de luz\n"
     ]
    }
   ],
   "source": [
    "velocidad_asteroide=26\n",
    "dimension_asteroide=24\n",
    "if velocidad_asteroide > 25 and dimension_asteroide > 25:\n",
    "    print ('Alerta asteroide acercandoce rapidamente')\n",
    "elif velocidad_asteroide >= 20:\n",
    "     print('En el cielo se ve un rayo de luz')\n",
    "elif dimension_asteroide < 25:\n",
    "     print('cielo despejado')\n",
    "else:\n",
    "    print('cielo despejado')     "
   ]
  }
 ],
 "metadata": {
  "interpreter": {
   "hash": "907dd751e801f48d97437a93f5e7f8ecf2a88d6aa62263283d60c0e793658f24"
  },
  "kernelspec": {
   "display_name": "Python 3.9.10 64-bit (windows store)",
   "language": "python",
   "name": "python3"
  },
  "language_info": {
   "codemirror_mode": {
    "name": "ipython",
    "version": 3
   },
   "file_extension": ".py",
   "mimetype": "text/x-python",
   "name": "python",
   "nbconvert_exporter": "python",
   "pygments_lexer": "ipython3",
   "version": "3.9.10"
  },
  "orig_nbformat": 4
 },
 "nbformat": 4,
 "nbformat_minor": 2
}
