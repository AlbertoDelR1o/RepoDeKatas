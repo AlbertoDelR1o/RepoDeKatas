{
 "cells": [
  {
   "cell_type": "code",
   "execution_count": null,
   "metadata": {},
   "outputs": [],
   "source": []
  },
  {
   "cell_type": "code",
   "execution_count": 4,
   "metadata": {},
   "outputs": [
    {
     "name": "stdout",
     "output_type": "stream",
     "text": [
      "Today's date is: 2022-02-08\n"
     ]
    }
   ],
   "source": [
    "\n",
    "\n",
    "from datetime import date\n",
    "\n",
    "print(\"Today's date is: \" + str(date.today()))\n",
    "\n"
   ]
  },
  {
   "cell_type": "code",
   "execution_count": 7,
   "metadata": {},
   "outputs": [
    {
     "name": "stdout",
     "output_type": "stream",
     "text": [
      "11persec, is 35.877159999999996 lightyears\n"
     ]
    }
   ],
   "source": [
    "persec = 11\n",
    "\n",
    "lightyears = 3.26156 * persec\n",
    "\n",
    "print (str(persec) + \"persec, is \" + str(lightyears) + \" lightyears\")"
   ]
  },
  {
   "cell_type": "code",
   "execution_count": 2,
   "metadata": {},
   "outputs": [
    {
     "name": "stdout",
     "output_type": "stream",
     "text": [
      "Bienvenido al convertidor de unidades\n",
      "11.0 persec, son 35.877159999999996 lightyears\n"
     ]
    }
   ],
   "source": [
    "print (\"Bienvenido al convertidor de unidades\")\n",
    "persec = input(\"introduce los persec:\")\n",
    "persec = float (persec)\n",
    "lightyear = persec * 3.26156\n",
    "print (str(persec) + \" persec, son \" + str(lightyear) + \" lightyears\")\n"
   ]
  }
 ],
 "metadata": {
  "interpreter": {
   "hash": "907dd751e801f48d97437a93f5e7f8ecf2a88d6aa62263283d60c0e793658f24"
  },
  "kernelspec": {
   "display_name": "Python 3.9.10 64-bit (windows store)",
   "language": "python",
   "name": "python3"
  },
  "language_info": {
   "codemirror_mode": {
    "name": "ipython",
    "version": 3
   },
   "file_extension": ".py",
   "mimetype": "text/x-python",
   "name": "python",
   "nbconvert_exporter": "python",
   "pygments_lexer": "ipython3",
   "version": "3.9.10"
  },
  "orig_nbformat": 4
 },
 "nbformat": 4,
 "nbformat_minor": 2
}
